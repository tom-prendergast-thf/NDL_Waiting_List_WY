{
 "cells": [
  {
   "cell_type": "code",
   "execution_count": 0,
   "metadata": {
    "application/vnd.databricks.v1+cell": {
     "cellMetadata": {
      "byteLimit": 2048000,
      "rowLimit": 10000
     },
     "inputWidgets": {},
     "nuid": "140c0105-155c-44b4-a5a4-6ab91741c540",
     "showTitle": false,
     "tableResultSettingsMap": {},
     "title": ""
    }
   },
   "outputs": [],
   "source": [
    "import sys\n",
    "sys.path.append(\"../src\")\n",
    "\n",
    "from utils import *"
   ]
  },
  {
   "cell_type": "code",
   "execution_count": 0,
   "metadata": {
    "application/vnd.databricks.v1+cell": {
     "cellMetadata": {},
     "inputWidgets": {},
     "nuid": "97acd80d-fbfa-443c-96b2-70709914b443",
     "showTitle": false,
     "tableResultSettingsMap": {},
     "title": ""
    }
   },
   "outputs": [],
   "source": [
    "import matplotlib.pyplot as plt\n",
    "import pandas as pd\n",
    "from pyspark.sql.functions import col\n",
    "from pyspark.sql.functions import when\n",
    "from pyspark.sql.functions import expr\n"
   ]
  },
  {
   "cell_type": "code",
   "execution_count": 0,
   "metadata": {
    "application/vnd.databricks.v1+cell": {
     "cellMetadata": {},
     "inputWidgets": {},
     "nuid": "b349bd43-b415-40a6-9237-014bb569b092",
     "showTitle": false,
     "tableResultSettingsMap": {},
     "title": ""
    }
   },
   "outputs": [],
   "source": [
    "cohort_1_link=\"../Dummy_Data/Cohort_1_synth.xlsx\"\n",
    "cohort_2_link=\"../Dummy_Data/Cohort_2_synth.xlsx\"\n",
    "cohort_3_link=\"../Dummy_Data/Cohort_3_synth.xlsx\""
   ]
  },
  {
   "cell_type": "code",
   "execution_count": 0,
   "metadata": {
    "application/vnd.databricks.v1+cell": {
     "cellMetadata": {
      "byteLimit": 2048000,
      "rowLimit": 10000
     },
     "inputWidgets": {},
     "nuid": "44cb0cc6-171f-4c7f-a67a-81e2d940635f",
     "showTitle": false,
     "tableResultSettingsMap": {},
     "title": ""
    }
   },
   "outputs": [],
   "source": [
    "#cohort_1_df = spark.read.format(\"parquet\").load(cohort_1_link)\n",
    "cohort_1_df=pd.read_excel(cohort_1_link)"
   ]
  },
  {
   "cell_type": "code",
   "execution_count": 0,
   "metadata": {
    "application/vnd.databricks.v1+cell": {
     "cellMetadata": {
      "byteLimit": 2048000,
      "rowLimit": 10000
     },
     "inputWidgets": {},
     "nuid": "e29e4819-a3a9-4a9c-abd8-ec509f235377",
     "showTitle": false,
     "tableResultSettingsMap": {},
     "title": ""
    }
   },
   "outputs": [],
   "source": [
    "#cohort_2_df = spark.read.format(\"parquet\").load(cohort_2_link\")\n",
    "cohort_2_df=pd.read_excel(cohort_2_link)"
   ]
  },
  {
   "cell_type": "code",
   "execution_count": 0,
   "metadata": {
    "application/vnd.databricks.v1+cell": {
     "cellMetadata": {
      "byteLimit": 2048000,
      "rowLimit": 10000
     },
     "inputWidgets": {},
     "nuid": "4d6faacd-c5e4-4a5e-8b81-5e1643bc6349",
     "showTitle": false,
     "tableResultSettingsMap": {},
     "title": ""
    }
   },
   "outputs": [],
   "source": [
    "cohort_2_df = cohort_2_df.withColumn(\"wl_type\", when(col(\"wlmds_type_changes_last\").contains(\"IRTT\"), \"in\").otherwise(\"op\"))\n",
    "\n",
    "cohort_2_df = cohort_2_df.withColumn(\n",
    "    \"waiting_group\",\n",
    "    when(col(\"ndl_wait_length\") <= 18*7, \"<18 weeks\")\n",
    "    .when((col(\"ndl_wait_length\") > 18*7) & (col(\"ndl_wait_length\") <= 36*7), \"19-36 weeks\")\n",
    "    .when((col(\"ndl_wait_length\") > 36*7) & (col(\"ndl_wait_length\") <= 52*7), \"37-52 weeks\")\n",
    "   .otherwise(\">52 weeks\"))\n",
    "display(cohort_2_df)"
   ]
  },
  {
   "cell_type": "code",
   "execution_count": 0,
   "metadata": {
    "application/vnd.databricks.v1+cell": {
     "cellMetadata": {
      "byteLimit": 2048000,
      "rowLimit": 10000
     },
     "inputWidgets": {},
     "nuid": "fd8c28d6-4f41-4070-a43b-004816ea2204",
     "showTitle": false,
     "tableResultSettingsMap": {},
     "title": ""
    }
   },
   "outputs": [],
   "source": [
    "speciality_comparison_df = cohort_2_df.groupBy(\"wl_type\", \"Specialty\", \"waiting_group\").agg(count(\"*\").alias(\"count\"))\n",
    "\n",
    "total_counts = cohort_2_df.groupBy(\"wl_type\", \"Specialty\").agg(count(\"*\").alias(\"total_count\"))\n",
    "\n",
    "speciality_comparison_df = speciality_comparison_df.join(total_counts, on=[\"wl_type\", \"Specialty\"], how=\"left\")\n",
    "\n",
    "speciality_comparison_df = speciality_comparison_df.withColumn(\"percentage\", (col(\"count\") / col(\"total_count\")) * 100)\n",
    "\n",
    "speciality_comparison_df = speciality_comparison_df.withColumn(\"count\", round(col(\"count\"), 2))\n",
    "speciality_comparison_df = speciality_comparison_df.withColumn(\"percentage\", round(col(\"percentage\"), 2))\n",
    "\n",
    "speciality_comparison_pd_df = speciality_comparison_df.toPandas()\n",
    "\n",
    "wl_types = speciality_comparison_pd_df['wl_type'].unique()\n",
    "waiting_group_order = [\"<18 weeks\", \"19-36 weeks\", \"37-52 weeks\", \">52 weeks\"]\n",
    "\n",
    "for wl_type in wl_types:\n",
    "    fig, ax = plt.subplots(figsize=(10, 6))\n",
    "    df_filtered = speciality_comparison_pd_df[speciality_comparison_pd_df['wl_type'] == wl_type]\n",
    "    df_pivot = df_filtered.pivot(index='Specialty', columns='waiting_group', values='percentage')\n",
    "    df_pivot = df_pivot[waiting_group_order]\n",
    "    df_pivot.plot(kind='bar', stacked=True, ax=ax)\n",
    "    plt.title(f'Specialty Comparison by Waiting Group for {wl_type}')\n",
    "    plt.xlabel('Specialty')\n",
    "    plt.ylabel('Percentage')\n",
    "    plt.legend(title='Waiting Group')\n",
    "    plt.grid(True)\n",
    "    plt.show()"
   ]
  },
  {
   "cell_type": "code",
   "execution_count": 0,
   "metadata": {
    "application/vnd.databricks.v1+cell": {
     "cellMetadata": {
      "byteLimit": 2048000,
      "rowLimit": 10000
     },
     "inputWidgets": {},
     "nuid": "3002e57a-0c09-490d-a11b-6a18889371fa",
     "showTitle": false,
     "tableResultSettingsMap": {},
     "title": ""
    }
   },
   "outputs": [],
   "source": [
    "cohort_2_tr=cohort_2_df.filter(col(\"wlmds_status\")==30)\n",
    "\n",
    "speciality_comparison_df = cohort_2_tr.groupBy(\"wl_type\", \"Specialty\", \"waiting_group\").agg(count(\"*\").alias(\"count\"))\n",
    "\n",
    "total_counts = cohort_2_tr.groupBy(\"wl_type\", \"Specialty\").agg(count(\"*\").alias(\"total_count\"))\n",
    "\n",
    "speciality_comparison_df = speciality_comparison_df.join(total_counts, on=[\"wl_type\", \"Specialty\"], how=\"left\")\n",
    "\n",
    "speciality_comparison_df = speciality_comparison_df.withColumn(\"percentage\", (col(\"count\") / col(\"total_count\")) * 100)\n",
    "\n",
    "speciality_comparison_df = speciality_comparison_df.withColumn(\"count\", round(col(\"count\"), 2))\n",
    "speciality_comparison_df = speciality_comparison_df.withColumn(\"percentage\", round(col(\"percentage\"), 2))\n",
    "\n",
    "speciality_comparison_pd_df = speciality_comparison_df.toPandas()\n",
    "\n",
    "wl_types = speciality_comparison_pd_df['wl_type'].unique()\n",
    "waiting_group_order = [\"<18 weeks\", \"19-36 weeks\", \"37-52 weeks\", \">52 weeks\"]\n",
    "\n",
    "for wl_type in wl_types:\n",
    "    fig, ax = plt.subplots(figsize=(10, 6))\n",
    "    df_filtered = speciality_comparison_pd_df[speciality_comparison_pd_df['wl_type'] == wl_type]\n",
    "    df_pivot = df_filtered.pivot(index='Specialty', columns='waiting_group', values='percentage')\n",
    "    df_pivot = df_pivot[waiting_group_order]\n",
    "    df_pivot.plot(kind='bar', stacked=True, ax=ax)\n",
    "    plt.title(f'Specialty Comparison by Waiting Group for {wl_type}')\n",
    "    plt.xlabel('Specialty')\n",
    "    plt.ylabel('Percentage')\n",
    "    plt.legend(title='Waiting Group')\n",
    "    plt.grid(True)\n",
    "    plt.show()\n"
   ]
  },
  {
   "cell_type": "code",
   "execution_count": 0,
   "metadata": {
    "application/vnd.databricks.v1+cell": {
     "cellMetadata": {
      "byteLimit": 2048000,
      "rowLimit": 10000
     },
     "inputWidgets": {},
     "nuid": "9a147e27-dc0b-43e5-8074-205a28978c4c",
     "showTitle": false,
     "tableResultSettingsMap": {},
     "title": ""
    }
   },
   "outputs": [],
   "source": [
    "columns = [\"ndl_age_band\", \"ndl_imd_quantile\", \"ndl_ethnicity\", \"ndl_ltc\", \"Sex\", \"Frailty_level\"]\n",
    "group_stats = calculate_wait_band_distribution_characteristics(cohort_2_tr.filter(col(\"wl_type\")=='op'), columns)\n",
    "group_stats_str = group_stats.toPandas().to_csv(index=False, sep=',', lineterminator='')\n",
    "display(group_stats_str)"
   ]
  },
  {
   "cell_type": "code",
   "execution_count": 0,
   "metadata": {
    "application/vnd.databricks.v1+cell": {
     "cellMetadata": {
      "byteLimit": 2048000,
      "rowLimit": 10000
     },
     "inputWidgets": {},
     "nuid": "849490bf-8370-44f8-ae29-96c18ad6c865",
     "showTitle": false,
     "tableResultSettingsMap": {},
     "title": ""
    }
   },
   "outputs": [],
   "source": [
    "#cohort_3_df = spark.read.format(\"parquet\").load(cohort_3_link)\n",
    "cohort_3_df=pd.read_excel(cohort_3_link)"
   ]
  },
  {
   "cell_type": "code",
   "execution_count": 0,
   "metadata": {
    "application/vnd.databricks.v1+cell": {
     "cellMetadata": {
      "byteLimit": 2048000,
      "rowLimit": 10000
     },
     "inputWidgets": {},
     "nuid": "2151f9f3-4a8f-442c-8246-6f9eda56af92",
     "showTitle": false,
     "tableResultSettingsMap": {},
     "title": ""
    }
   },
   "outputs": [],
   "source": [
    "gynae_patients_df = cohort_3_df.filter(col(\"wlmds_treatment_function_code\") == \"502\")\n",
    "other_specialities_df = cohort_3_df.filter(col(\"wlmds_treatment_function_code\") != \"502\")\n",
    "\n",
    "overlapping_waiting_pathways_df = gynae_patients_df.alias(\"gynae\").join(\n",
    "    other_specialities_df.alias(\"other\"),\n",
    "    (col(\"gynae.wlmds_patient_id\") == col(\"other.wlmds_patient_id\")) &\n",
    "    (( (col(\"gynae.wlmds_rtt_start_date_conc3\") <= col(\"other.wlmds_rtt_start_date_conc3\")) &\n",
    "    (date_add(col(\"gynae.wlmds_rtt_start_date_conc3\"),col(\"gynae.ndl_wait_length\"))  >= col(\"other.wlmds_rtt_start_date_conc3\"))) |\n",
    "    ( (col(\"gynae.wlmds_rtt_start_date_conc3\") >= col(\"other.wlmds_rtt_start_date_conc3\")) &\n",
    "    (col(\"gynae.wlmds_rtt_start_date_conc3\") <= date_add(col(\"other.wlmds_rtt_start_date_conc3\"), col(\"other.ndl_wait_length\"))))) ,\n",
    "    \"inner\"\n",
    ").select(col(\"gynae.wlmds_patient_id\")).distinct()\n",
    "\n",
    "overlapping_count = overlapping_waiting_pathways_df.count()\n",
    "total_gynae_patients = gynae_patients_df.select(\"wlmds_patient_id\").distinct().count()\n",
    "\n",
    "percentage_overlapping = (overlapping_count / total_gynae_patients) * 100\n",
    "\n",
    "display(percentage_overlapping)"
   ]
  },
  {
   "cell_type": "code",
   "execution_count": 0,
   "metadata": {
    "application/vnd.databricks.v1+cell": {
     "cellMetadata": {
      "byteLimit": 2048000,
      "rowLimit": 10000
     },
     "inputWidgets": {},
     "nuid": "b49ade63-9e62-4626-bd4a-43f1503e52a9",
     "showTitle": false,
     "tableResultSettingsMap": {},
     "title": ""
    }
   },
   "outputs": [],
   "source": [
    "gynae_patients_df_alias = gynae_patients_df.alias(\"gynae\")\n",
    "other_specialities_df_alias = other_specialities_df.alias(\"other\")\n",
    "\n",
    "overlapping_tfc_df = gynae_patients_df.alias(\"gynae\").join(\n",
    "    other_specialities_df.alias(\"other\"),\n",
    "    (col(\"gynae.wlmds_patient_id\") == col(\"other.wlmds_patient_id\")) &\n",
    "    (( (col(\"gynae.wlmds_rtt_start_date_conc3\") <= col(\"other.wlmds_rtt_start_date_conc3\")) &\n",
    "    (date_add(col(\"gynae.wlmds_rtt_start_date_conc3\"),col(\"gynae.ndl_wait_length\"))  >= col(\"other.wlmds_rtt_start_date_conc3\"))) |\n",
    "    ( (col(\"gynae.wlmds_rtt_start_date_conc3\") >= col(\"other.wlmds_rtt_start_date_conc3\")) &\n",
    "    (col(\"gynae.wlmds_rtt_start_date_conc3\") <= date_add(col(\"other.wlmds_rtt_start_date_conc3\"), col(\"other.ndl_wait_length\"))))) ,\n",
    "    \"inner\"\n",
    ").select(\"other.wlmds_treatment_function_code\").groupBy(\"wlmds_treatment_function_code\").count()\n",
    "\n",
    "display(overlapping_tfc_df)"
   ]
  },
  {
   "cell_type": "code",
   "execution_count": 0,
   "metadata": {
    "application/vnd.databricks.v1+cell": {
     "cellMetadata": {
      "byteLimit": 2048000,
      "rowLimit": 10000
     },
     "inputWidgets": {},
     "nuid": "42872bf2-15c8-4a89-be0f-45440d0ddd20",
     "showTitle": false,
     "tableResultSettingsMap": {},
     "title": ""
    }
   },
   "outputs": [],
   "source": [
    "# Count patients with single and multiple pathways for the same speciality\n",
    "single_pathway_count = gynae_patients_df.groupBy(\"wlmds_patient_id\").count().filter(col(\"count\") == 1).count()\n",
    "multiple_pathways_same_speciality_count = gynae_patients_df.groupBy(\"wlmds_patient_id\").count().filter(col(\"count\") > 1).count()\n",
    "\n",
    "# Count patients with overlapping pathways with other specialities\n",
    "overlapping_count = overlapping_waiting_pathways_df.count()\n",
    "\n",
    "# Calculate percentages\n",
    "total_gynae_patients = gynae_patients_df.select(\"wlmds_patient_id\").distinct().count()\n",
    "single_pathway_percentage = (single_pathway_count / total_gynae_patients) * 100\n",
    "multiple_pathways_same_speciality_percentage = (multiple_pathways_same_speciality_count / total_gynae_patients) * 100\n",
    "overlapping_percentage = (overlapping_count / total_gynae_patients) * 100\n",
    "\n",
    "# Data for plotting\n",
    "labels = ['Single Pathway', 'Multiple Pathways (Same Speciality)', 'Overlapping Pathways (Other Specialities)']\n",
    "percentages = [single_pathway_percentage, multiple_pathways_same_speciality_percentage, overlapping_percentage]\n",
    "\n",
    "# Plotting\n",
    "fig, ax = plt.subplots()\n",
    "ax.bar(labels, percentages, color=['blue', 'orange', 'green'])\n",
    "ax.set_ylabel('Percentage of Patients')\n",
    "ax.set_title('Patient Pathways Distribution')\n",
    "ax.set_xticklabels(labels, rotation=45, ha='right')\n",
    "\n"
   ]
  },
  {
   "cell_type": "code",
   "execution_count": 0,
   "metadata": {
    "application/vnd.databricks.v1+cell": {
     "cellMetadata": {
      "byteLimit": 2048000,
      "rowLimit": 10000
     },
     "inputWidgets": {},
     "nuid": "163ac5d8-9e7d-4797-bbe0-f57be992d6b1",
     "showTitle": false,
     "tableResultSettingsMap": {},
     "title": ""
    }
   },
   "outputs": [],
   "source": [
    "def calculate_wait_band_distribution_characteristics(df, input_cols):\n",
    "    \"\"\"\n",
    "    Calculate the distribution of wait bands for the given input columns,\n",
    "    including counts and percentages for each wait band value, and total counts\n",
    "    for each input column value, renaming null values in the input columns to \"unknown\".\n",
    " \n",
    "    Args:\n",
    "        df (DataFrame): Input DataFrame.\n",
    "        input_cols (list): List of column names for the input grouping.\n",
    " \n",
    "    Returns:\n",
    "        DataFrame: A DataFrame containing input column values, total counts,\n",
    "                   and affixed columns with each wait band value: count and percentage.\n",
    "\n",
    "    \"\"\"\n",
    "\n",
    "    personal_ch = df.groupBy(input_cols + [\"wlmds_patient_id\", \"wlmds_treatment_function_code\", \"wlmds_rtt_start_date_conc3\" ,\"waiting_group\"]).agg(count(\"*\").alias(\"count\"))\n",
    "\n",
    "    grouped_counts_list = []\n",
    "\n",
    "    for var in input_cols:\n",
    "        personal_ch = personal_ch.withColumn(var, when(col(var).isNull(), \"unknown\").otherwise(col(var)))\n",
    "        grouped_counts = personal_ch.groupBy(var).pivot(\"waiting_group\").agg(count(\"*\").alias(\"count\")).withColumnRenamed(var, \"value\")\n",
    "        total_counts = personal_ch.groupBy(var).agg(count(\"*\").alias(\"total_count\")).withColumnRenamed(var, \"value\")\n",
    "        grouped_counts = grouped_counts.join(total_counts, on=\"value\", how=\"left\")\n",
    "        for c in grouped_counts.columns:\n",
    "            if c not in [\"value\", \"total_count\"]:\n",
    "                grouped_counts = grouped_counts.withColumn(f\"{c}_percentage\", (coalesce(col(c), lit(0)) / col(\"total_count\")) * 100)\n",
    "                grouped_counts = grouped_counts.withColumn(c, round(coalesce(col(c), lit(0)), 2))\n",
    "                grouped_counts = grouped_counts.withColumn(f\"{c}_percentage\", round(col(f\"{c}_percentage\"), 2))\n",
    "        grouped_counts = grouped_counts.withColumn(\"Variable\", lit(var))\n",
    "        grouped_counts_list.append(grouped_counts)\n",
    "\n",
    "    grouped_counts = reduce(lambda df1, df2: df1.unionByName(df2), grouped_counts_list)\n",
    "        \n",
    "    return grouped_counts"
   ]
  },
  {
   "cell_type": "code",
   "execution_count": 0,
   "metadata": {
    "application/vnd.databricks.v1+cell": {
     "cellMetadata": {
      "byteLimit": 2048000,
      "rowLimit": 10000
     },
     "inputWidgets": {},
     "nuid": "cfa8f5ad-84d5-4373-a81e-f4388b30a762",
     "showTitle": false,
     "tableResultSettingsMap": {},
     "title": ""
    }
   },
   "outputs": [],
   "source": [
    "columns = [\"ndl_age_band\", \"ndl_imd_quantile\", \"ndl_ethnicity\", \"ndl_ltc\", \"Sex\", \"Frailty_level\"]\n",
    "group_stats = calculate_wait_band_distribution_characteristics(cohort_3_df, columns)\n",
    "group_stats_str = group_stats.toPandas().to_csv(index=False, sep=',', lineterminator='')\n",
    "display(group_stats_str)"
   ]
  },
  {
   "cell_type": "code",
   "execution_count": 0,
   "metadata": {
    "application/vnd.databricks.v1+cell": {
     "cellMetadata": {
      "byteLimit": 2048000,
      "rowLimit": 10000
     },
     "inputWidgets": {},
     "nuid": "e910bbb5-675e-48e7-b288-0644934e1d62",
     "showTitle": false,
     "tableResultSettingsMap": {},
     "title": ""
    }
   },
   "outputs": [],
   "source": [
    "display(cohort_3_df.groupBy(\"Specialty\").count())"
   ]
  },
  {
   "cell_type": "code",
   "execution_count": 0,
   "metadata": {
    "application/vnd.databricks.v1+cell": {
     "cellMetadata": {
      "byteLimit": 2048000,
      "rowLimit": 10000
     },
     "inputWidgets": {},
     "nuid": "2548fdb2-a349-4139-b61d-e8dfad914b04",
     "showTitle": false,
     "tableResultSettingsMap": {},
     "title": ""
    }
   },
   "outputs": [],
   "source": [
    "# Create waiting group based on the waiting length\n",
    "cohort_3_df = cohort_3_df.withColumn(\n",
    "    \"waiting_group\",\n",
    "    when(col(\"ndl_wait_length\") <= 18*7, \"<18 weeks\")\n",
    "    .when((col(\"ndl_wait_length\") > 18*7) & (col(\"ndl_wait_length\") <= 36*7), \"19-36 weeks\")\n",
    "    .when((col(\"ndl_wait_length\") > 36*7) & (col(\"ndl_wait_length\") <= 52*7), \"37-52 weeks\")\n",
    "   .otherwise(\">52 weeks\")).filter(col(\"Specialty\")==\"Gynaecology\")"
   ]
  },
  {
   "cell_type": "code",
   "execution_count": 0,
   "metadata": {
    "application/vnd.databricks.v1+cell": {
     "cellMetadata": {
      "byteLimit": 2048000,
      "rowLimit": 10000
     },
     "inputWidgets": {},
     "nuid": "4fe482d4-3a1e-4f66-8fb4-2cae6a59ee75",
     "showTitle": false,
     "tableResultSettingsMap": {},
     "title": ""
    }
   },
   "outputs": [],
   "source": [
    "reshaped_df = cohort_3_df.selectExpr(\n",
    "    \"Specialty as specialty\",\n",
    "    \"wlmds_patient_id\",\n",
    "    \"ndl_wait_length\",\n",
    "    \"waiting_group\",\n",
    "    \"stack(36, \"\n",
    "    \"'gp_healthcare_use_sum_3m_before', gp_healthcare_use_sum_3m_before, \"\n",
    "    \"'u111_healthcare_use_sum_3m_before', u111_healthcare_use_sum_3m_before, \"\n",
    "    \"'u999_healthcare_use_sum_3m_before', u999_healthcare_use_sum_3m_before, \"\n",
    "    \"'u00H_healthcare_use_sum_3m_before', u00H_healthcare_use_sum_3m_before, \"\n",
    "    \"'ae_healthcare_use_sum_3m_before', ae_healthcare_use_sum_3m_before, \"\n",
    "    \"'nel_healthcare_use_sum_3m_before', nel_healthcare_use_sum_3m_before, \"\n",
    "    \"'el_healthcare_use_sum_3m_before', el_healthcare_use_sum_3m_before, \"\n",
    "    \"'op_healthcare_use_sum_3m_before', op_healthcare_use_sum_3m_before, \"\n",
    "    \"'gp_healthcare_use_sum_waiting_time', gp_healthcare_use_sum_waiting_time, \"\n",
    "    \"'u111_healthcare_use_sum_waiting_time', u111_healthcare_use_sum_waiting_time, \"\n",
    "    \"'u999_healthcare_use_sum_waiting_time', u999_healthcare_use_sum_waiting_time, \"\n",
    "    \"'u00H_healthcare_use_sum_waiting_time', u00H_healthcare_use_sum_waiting_time, \"\n",
    "    \"'ae_healthcare_use_sum_waiting_time', ae_healthcare_use_sum_waiting_time, \"\n",
    "    \"'nel_healthcare_use_sum_waiting_time', nel_healthcare_use_sum_waiting_time, \"\n",
    "    \"'el_healthcare_use_sum_waiting_time', el_healthcare_use_sum_waiting_time, \"\n",
    "    \"'op_healthcare_use_sum_waiting_time', op_healthcare_use_sum_waiting_time, \"\n",
    "    \"'gp_healthcare_use_sum_3m_after', gp_healthcare_use_sum_3m_after, \"\n",
    "    \"'u111_healthcare_use_sum_3m_after', u111_healthcare_use_sum_3m_after, \"\n",
    "    \"'u999_healthcare_use_sum_3m_after', u999_healthcare_use_sum_3m_after, \"\n",
    "    \"'u00H_healthcare_use_sum_3m_after', u00H_healthcare_use_sum_3m_after, \"\n",
    "    \"'ae_healthcare_use_sum_3m_after', ae_healthcare_use_sum_3m_after, \"\n",
    "    \"'nel_healthcare_use_sum_3m_after', nel_healthcare_use_sum_3m_after, \"\n",
    "    \"'el_healthcare_use_sum_3m_after', el_healthcare_use_sum_3m_after, \"\n",
    "    \"'op_healthcare_use_sum_3m_after', op_healthcare_use_sum_3m_after, \"\n",
    "   # \"'op_Total_Cost_3m_before', op_Total_Cost_3m_before, \"\n",
    "    #\"'ae_Total_Cost_3m_before', ae_Total_Cost_3m_before, \"\n",
    "    #\"'gp_Total_Cost_3m_before', gp_Total_Cost_3m_before, \"\n",
    "    #\"'el_Total_Cost_3m_before', el_Total_Cost_3m_before, \"\n",
    "    #\"'nel_Total_Cost_3m_before', nel_Total_Cost_3m_before, \"\n",
    "    #\"'all_pres_sum_3m_before', all_pres_sum_3m_before, \"\n",
    "    \"'antib_pres_sum_3m_before', antib_pres_sum_3m_before, \"\n",
    "    \"'antidep_pres_sum_3m_before', antidep_pres_sum_3m_before, \"\n",
    "    \"'pain_pres_sum_3m_before', pain_pres_sum_3m_before, \"\n",
    "    \"'sick_note_sum_3m_before', sick_note_sum_3m_before, \"\n",
    "    #\"'op_Total_Cost_waiting_time', op_Total_Cost_waiting_time, \"\n",
    "    #\"'ae_Total_Cost_waiting_time', ae_Total_Cost_waiting_time, \"\n",
    "    #\"'gp_Total_Cost_waiting_time', gp_Total_Cost_waiting_time, \"\n",
    "    #\"'el_Total_Cost_waiting_time', el_Total_Cost_waiting_time, \"\n",
    "    #\"'nel_Total_Cost_waiting_time', nel_Total_Cost_waiting_time, \"\n",
    "    #\"'all_pres_sum_waiting_time', all_pres_sum_waiting_time, \"\n",
    "    \"'antib_pres_sum_waiting_time', antib_pres_sum_waiting_time, \"\n",
    "    \"'antidep_pres_sum_waiting_time', antidep_pres_sum_waiting_time, \"\n",
    "    \"'pain_pres_sum_waiting_time', pain_pres_sum_waiting_time, \"\n",
    "    \"'sick_note_sum_waiting_time', sick_note_sum_waiting_time, \"\n",
    "    #\"'op_Total_Cost_3m_after', op_Total_Cost_3m_after, \"\n",
    "    #\"'ae_Total_Cost_3m_after', ae_Total_Cost_3m_after, \"\n",
    "    #\"'gp_Total_Cost_3m_after', gp_Total_Cost_3m_after, \"\n",
    "    #\"'el_Total_Cost_3m_after', el_Total_Cost_3m_after, \"\n",
    "    #\"'nel_Total_Cost_3m_after', nel_Total_Cost_3m_after, \"\n",
    "    #\"'all_pres_sum_3m_after', all_pres_sum_3m_after, \"\n",
    "    \"'antib_pres_sum_3m_after', antib_pres_sum_3m_after, \"\n",
    "    \"'antidep_pres_sum_3m_after', antidep_pres_sum_3m_after, \"\n",
    "    \"'pain_pres_sum_3m_after', pain_pres_sum_3m_after, \"\n",
    "    \"'sick_note_sum_3m_after', sick_note_sum_3m_after\"\n",
    "    \") as (metric, healthcare_utilization)\"\n",
    ").withColumn(\n",
    "    \"delivery_point\", expr(\n",
    "        \"CASE \"\n",
    "        \"WHEN metric LIKE 'gp%' THEN 'GP' \"\n",
    "        \"WHEN metric LIKE 'u111%' THEN 'U111' \"\n",
    "        \"WHEN metric LIKE 'u999%' THEN 'U999' \"\n",
    "        \"WHEN metric LIKE 'u00H%' THEN 'U00H' \"\n",
    "        \"WHEN metric LIKE 'ae%' THEN 'AE' \"\n",
    "        \"WHEN metric LIKE 'nel%' THEN 'NEL' \"\n",
    "        \"WHEN metric LIKE 'el%' THEN 'EL' \"\n",
    "        \"WHEN metric LIKE 'op%' THEN 'OP' \"\n",
    "       # \"WHEN metric LIKE 'all_pres%' THEN 'All Prescriptions' \"\n",
    "        \"WHEN metric LIKE 'antib_pres%' THEN 'Antibiotic Prescriptions' \"\n",
    "        \"WHEN metric LIKE 'antidep_pres%' THEN 'Antidepressant Prescriptions' \"\n",
    "        \"WHEN metric LIKE 'pain_pres%' THEN 'Pain Prescriptions' \"\n",
    "        \"WHEN metric LIKE 'sick_note%' THEN 'Sick Notes' \"\n",
    "        \"END\"\n",
    "    )\n",
    ").withColumn(\n",
    "    \"time_period\", expr(\n",
    "        \"CASE \"\n",
    "        \"WHEN metric LIKE '%3m_before' THEN '3 months before' \"\n",
    "        \"WHEN metric LIKE '%waiting_time' THEN 'during waiting' \"\n",
    "        \"WHEN metric LIKE '%3m_after' THEN '3 months after' \"\n",
    "        \"END\"\n",
    "    )\n",
    ").drop(\"metric\")\n",
    "\n",
    "display(reshaped_df)"
   ]
  },
  {
   "cell_type": "code",
   "execution_count": 0,
   "metadata": {
    "application/vnd.databricks.v1+cell": {
     "cellMetadata": {
      "byteLimit": 2048000,
      "rowLimit": 10000
     },
     "inputWidgets": {},
     "nuid": "d2084713-7c6c-48fd-b423-1103751256c3",
     "showTitle": false,
     "tableResultSettingsMap": {},
     "title": ""
    }
   },
   "outputs": [],
   "source": [
    "reshaped_df = reshaped_df.withColumn(\n",
    "    \"ndl_wait_length\",\n",
    "    when(col(\"time_period\").contains(\"3 months\"), 7*13).otherwise(col(\"ndl_wait_length\"))\n",
    ")\n",
    "\n",
    "display(reshaped_df)"
   ]
  },
  {
   "cell_type": "code",
   "execution_count": 0,
   "metadata": {
    "application/vnd.databricks.v1+cell": {
     "cellMetadata": {
      "byteLimit": 2048000,
      "rowLimit": 10000
     },
     "inputWidgets": {},
     "nuid": "30ac3a2c-1ff7-415a-a7fa-77b5e5f56c5f",
     "showTitle": false,
     "tableResultSettingsMap": {},
     "title": ""
    }
   },
   "outputs": [],
   "source": [
    "df_total_hc = reshaped_df.toPandas()\n",
    "\n",
    "# Group by delivery_point and time_period, summing healthcare utilization\n",
    "df_total_hc = df_total_hc[df_total_hc['time_period'] != '6 months before']\n",
    "grouped = df_total_hc.groupby(['delivery_point', 'time_period'])['healthcare_utilization'].sum().reset_index()\n",
    "\n",
    "# Pivot the data for better visualization\n",
    "pivot = grouped.pivot(index='delivery_point', columns='time_period', values='healthcare_utilization')\n",
    "\n",
    "# Reorder columns\n",
    "pivot = pivot[['3 months before', 'during waiting', '3 months after']]\n",
    "\n",
    "# Plotting\n",
    "plt.figure(figsize=(10, 6))\n",
    "pivot.plot(kind='bar', stacked=False, figsize=(10, 6))\n",
    "\n",
    "plt.title(\"Total Healthcare Utilization per Delivery Point Across Time Periods\", fontsize=16)\n",
    "plt.xlabel(\"Delivery Point\", fontsize=14)\n",
    "plt.ylabel(\"Total Healthcare Utilization\", fontsize=14)\n",
    "plt.legend(title=\"Time Period\", fontsize=12)\n",
    "plt.xticks(rotation=45, ha='right')\n",
    "plt.tight_layout()\n",
    "plt.show()"
   ]
  },
  {
   "cell_type": "code",
   "execution_count": 0,
   "metadata": {
    "application/vnd.databricks.v1+cell": {
     "cellMetadata": {
      "byteLimit": 2048000,
      "rowLimit": 10000
     },
     "inputWidgets": {},
     "nuid": "c25c13f6-2356-43ee-aa93-43298521b10d",
     "showTitle": false,
     "tableResultSettingsMap": {},
     "title": ""
    }
   },
   "outputs": [],
   "source": [
    "df_total_hc = reshaped_df.toPandas()\n",
    "\n",
    "# Group by delivery_point, time_period, and waiting_group, summing healthcare utilization\n",
    "df_total_hc = df_total_hc[df_total_hc['time_period'] != '6 months before']\n",
    "grouped = df_total_hc.groupby(['delivery_point', 'time_period', 'waiting_group'])['healthcare_utilization'].sum().reset_index()\n",
    "\n",
    "# Pivot the data for better visualization\n",
    "pivot = grouped.pivot_table(index=['delivery_point', 'waiting_group'], columns='time_period', values='healthcare_utilization', aggfunc='sum').reset_index()\n",
    "\n",
    "# Reorder columns\n",
    "pivot = pivot[['delivery_point', 'waiting_group', '3 months before', 'during waiting', '3 months after']]\n",
    "\n",
    "# Plotting separate plots for each waiting group\n",
    "waiting_groups = pivot['waiting_group'].unique()\n",
    "for group in waiting_groups:\n",
    "    group_data = pivot[pivot['waiting_group'] == group].set_index('delivery_point')\n",
    "    group_data[['3 months before', 'during waiting', '3 months after']].plot(kind='bar', stacked=False, figsize=(10, 6))\n",
    "    \n",
    "    plt.title(f\"Total Healthcare Utilization per Delivery Point Across Time Periods for Waiting Group {group}\", fontsize=16)\n",
    "    plt.xlabel(\"Delivery Point\", fontsize=14)\n",
    "    plt.ylabel(\"Total Healthcare Utilization\", fontsize=14)\n",
    "    plt.legend(title=\"Time Period\", fontsize=12)\n",
    "    plt.xticks(rotation=45, ha='right')\n",
    "    plt.tight_layout()\n",
    "    plt.show()"
   ]
  },
  {
   "cell_type": "code",
   "execution_count": 0,
   "metadata": {
    "application/vnd.databricks.v1+cell": {
     "cellMetadata": {
      "byteLimit": 2048000,
      "rowLimit": 10000
     },
     "inputWidgets": {},
     "nuid": "dcd2000a-5d80-4d02-a1e2-3f19c2ceecff",
     "showTitle": false,
     "tableResultSettingsMap": {},
     "title": ""
    }
   },
   "outputs": [],
   "source": [
    "df_total_hc = reshaped_df.toPandas()\n",
    "\n",
    "# Group by delivery_point, time_period, and waiting_group, summing healthcare utilization and counting occurrences\n",
    "df_total_hc = df_total_hc[df_total_hc['time_period'] != '6 months before']\n",
    "grouped = df_total_hc.groupby(['delivery_point', 'time_period', 'waiting_group']).agg(\n",
    "    healthcare_utilization_sum=('healthcare_utilization', 'sum'),\n",
    "    ndl_wait_length_sum=('ndl_wait_length', 'sum'),\n",
    "    count=('healthcare_utilization', 'count')\n",
    ").reset_index()\n",
    "\n",
    "grouped['rate_per_1000'] = (grouped['healthcare_utilization_sum'] / (grouped['ndl_wait_length_sum']/7)) * 1000\n",
    "\n",
    "# Pivot the data for better visualization\n",
    "pivot_1 = grouped.pivot_table(index=['delivery_point', 'waiting_group'], \n",
    "                            columns='time_period', \n",
    "                            values='rate_per_1000').reset_index()\n",
    "\n",
    "# Reorder columns\n",
    "pivot_1 = pivot_1[['delivery_point', 'waiting_group', '3 months before', 'during waiting', '3 months after']]\n",
    "\n",
    "# Determine the common y-axis scale\n",
    "y_max = pivot_1[['3 months before', 'during waiting', '3 months after']].max().max()\n",
    "\n",
    "# Plotting separate plots for each waiting group\n",
    "waiting_groups = pivot_1['waiting_group'].unique()\n",
    "for group in waiting_groups:\n",
    "    group_data = pivot_1[pivot_1['waiting_group'] == group].set_index('delivery_point')\n",
    "    ax = group_data[['3 months before', 'during waiting', '3 months after']].plot(kind='bar', stacked=False, figsize=(10, 6))\n",
    "    \n",
    "    plt.title(f\"Healthcare Utilization Rate per 1000 per Delivery Point Across Time Periods for Waiting Group {group}\", fontsize=16)\n",
    "    plt.xlabel(\"Delivery Point\", fontsize=14)\n",
    "    plt.ylabel(\"Healthcare Utilization Rate per 1000\", fontsize=14)\n",
    "    plt.legend(title=\"Time Period\", fontsize=12)\n",
    "    plt.xticks(rotation=45, ha='right')\n",
    "    plt.ylim(0, y_max)\n",
    "    plt.tight_layout()\n",
    "    plt.show()"
   ]
  },
  {
   "cell_type": "code",
   "execution_count": 0,
   "metadata": {
    "application/vnd.databricks.v1+cell": {
     "cellMetadata": {
      "byteLimit": 2048000,
      "rowLimit": 10000
     },
     "inputWidgets": {},
     "nuid": "a6a9c0c7-6981-4d25-b59c-1bcac6ae1681",
     "showTitle": false,
     "tableResultSettingsMap": {},
     "title": ""
    }
   },
   "outputs": [],
   "source": [
    "grouped_str = grouped.to_string()\n",
    "display(grouped_str)"
   ]
  }
 ],
 "metadata": {
  "application/vnd.databricks.v1+notebook": {
   "computePreferences": null,
   "dashboards": [],
   "environmentMetadata": {
    "base_environment": "",
    "environment_version": "2"
   },
   "inputWidgetPreferences": null,
   "language": "python",
   "notebookMetadata": {
    "pythonIndentUnit": 4
   },
   "notebookName": "WL_Analysis_for_Gynea",
   "widgets": {}
  },
  "language_info": {
   "name": "python"
  }
 },
 "nbformat": 4,
 "nbformat_minor": 0
}
