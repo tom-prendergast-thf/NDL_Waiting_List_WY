{
 "cells": [
  {
   "cell_type": "code",
   "execution_count": 0,
   "metadata": {
    "application/vnd.databricks.v1+cell": {
     "cellMetadata": {
      "byteLimit": 2048000,
      "rowLimit": 10000
     },
     "inputWidgets": {},
     "nuid": "da679dd3-4add-4f32-98d1-845666366434",
     "showTitle": false,
     "tableResultSettingsMap": {},
     "title": ""
    }
   },
   "outputs": [],
   "source": [
    "import sys\n",
    "import os\n",
    "sys.path.append(\"../src\")"
   ]
  },
  {
   "cell_type": "code",
   "execution_count": 0,
   "metadata": {
    "application/vnd.databricks.v1+cell": {
     "cellMetadata": {
      "byteLimit": 2048000,
      "rowLimit": 10000
     },
     "inputWidgets": {},
     "nuid": "2b020014-dd19-4e4a-921d-0ad1bfc03b47",
     "showTitle": false,
     "tableResultSettingsMap": {},
     "title": ""
    }
   },
   "outputs": [],
   "source": [
    "from pyspark.sql import functions as F\n",
    "from utils import *"
   ]
  },
  {
   "cell_type": "code",
   "execution_count": 0,
   "metadata": {
    "application/vnd.databricks.v1+cell": {
     "cellMetadata": {},
     "inputWidgets": {},
     "nuid": "452a8ac7-ef89-48ee-b158-32d4bf444f79",
     "showTitle": false,
     "tableResultSettingsMap": {},
     "title": ""
    }
   },
   "outputs": [],
   "source": [
    "cohort_1_link=\"../Dummy_Data/Cohort_1_synth.xlsx\"\n",
    "cohort_2_link=\"../Dummy_Data/Cohort_2_synth.xlsx\"\n",
    "cohort_3_link=\"../Dummy_Data/Cohort_3_synth.xlsx\""
   ]
  },
  {
   "cell_type": "code",
   "execution_count": 0,
   "metadata": {
    "application/vnd.databricks.v1+cell": {
     "cellMetadata": {
      "byteLimit": 2048000,
      "rowLimit": 10000
     },
     "inputWidgets": {},
     "nuid": "cd01f8af-f526-4939-b7f9-e31653492cc6",
     "showTitle": false,
     "tableResultSettingsMap": {},
     "title": ""
    }
   },
   "outputs": [],
   "source": [
    "cohort2=pd.read_excel(cohort_2_link)\n",
    "cohort2=cohort2.filter(col(\"wlmds_status\") != \"30\")"
   ]
  },
  {
   "cell_type": "code",
   "execution_count": 0,
   "metadata": {
    "application/vnd.databricks.v1+cell": {
     "cellMetadata": {
      "byteLimit": 2048000,
      "rowLimit": 10000
     },
     "inputWidgets": {},
     "nuid": "491062d0-e36e-48be-b1d5-d302e63ee1a1",
     "showTitle": false,
     "tableResultSettingsMap": {},
     "title": ""
    }
   },
   "outputs": [],
   "source": [
    "display(cohort2.count())"
   ]
  },
  {
   "cell_type": "code",
   "execution_count": 0,
   "metadata": {
    "application/vnd.databricks.v1+cell": {
     "cellMetadata": {
      "byteLimit": 2048000,
      "rowLimit": 10000
     },
     "inputWidgets": {},
     "nuid": "3b7650d3-7604-46a9-8e43-ab69f495db75",
     "showTitle": false,
     "tableResultSettingsMap": {},
     "title": ""
    }
   },
   "outputs": [],
   "source": [
    "unique_patients = cohort2.select(\"wlmds_patient_id\").distinct().count()\n",
    "display(unique_patients)"
   ]
  },
  {
   "cell_type": "code",
   "execution_count": 0,
   "metadata": {
    "application/vnd.databricks.v1+cell": {
     "cellMetadata": {
      "byteLimit": 2048000,
      "rowLimit": 10000
     },
     "inputWidgets": {},
     "nuid": "76d35539-817e-4424-9194-1b47786c300c",
     "showTitle": false,
     "tableResultSettingsMap": {},
     "title": ""
    }
   },
   "outputs": [],
   "source": [
    "#check overlaping rtt pathways\n",
    "overlapping_pathways = cohort2.alias(\"df1\").join(\n",
    "    cohort2.alias(\"df2\"),\n",
    "    (F.col(\"df1.wlmds_patient_id\") == F.col(\"df2.wlmds_patient_id\")) &\n",
    "    (F.col(\"df1.wlmds_treatment_function_code\") == F.col(\"df2.wlmds_treatment_function_code\")) &\n",
    "    (F.col(\"df1.wlmds_rtt_start_date_conc3\") < F.col(\"df2.wlmds_rtt_end_date_conc4\")) &\n",
    "    (F.col(\"df1.wlmds_rtt_end_date_conc4\") > F.col(\"df2.wlmds_rtt_start_date_conc3\")) &\n",
    "    (F.col(\"df1.wlmds_pathway_id\") != F.col(\"df2.wlmds_pathway_id\"))\n",
    ").select(\"df1.wlmds_patient_id\").distinct().count()\n",
    "\n",
    "display(overlapping_pathways)"
   ]
  },
  {
   "cell_type": "code",
   "execution_count": 0,
   "metadata": {
    "application/vnd.databricks.v1+cell": {
     "cellMetadata": {
      "byteLimit": 2048000,
      "rowLimit": 10000
     },
     "inputWidgets": {},
     "nuid": "92cae2d4-148d-4bcd-9228-74d25c924d51",
     "showTitle": false,
     "tableResultSettingsMap": {},
     "title": ""
    }
   },
   "outputs": [],
   "source": [
    "# Identify patients with overlapping pathways\n",
    "overlapping_pathways = cohort2.alias(\"df1\").join(\n",
    "    cohort2.alias(\"df2\"),\n",
    "    (F.col(\"df1.wlmds_patient_id\") == F.col(\"df2.wlmds_patient_id\")) &\n",
    "    (F.col(\"df1.wlmds_rtt_start_date_conc3\") < F.col(\"df2.wlmds_rtt_end_date_conc4\")) &\n",
    "    (F.col(\"df1.wlmds_rtt_end_date_conc4\") > F.col(\"df2.wlmds_rtt_start_date_conc3\")) &\n",
    "    (F.col(\"df1.wlmds_pathway_id\") != F.col(\"df2.wlmds_pathway_id\"))\n",
    ").select(\"df1.wlmds_patient_id\", \"df1.ndl_wait_band\",\"df1.ndl_age_band\", \"df1.ndl_imd_quantile\", \"df1.ndl_ethnicity\", \"df1.ndl_ltc\", \"df1.Sex\", \"df1.Frailty_level\").distinct()\n",
    "\n",
    "# Identify non-overlapping patients by excluding overlapping ones\n",
    "non_overlapping_pathways = cohort2.join(\n",
    "    overlapping_pathways, \n",
    "    on=\"wlmds_patient_id\", \n",
    "    how=\"left_anti\"\n",
    ").select(\"wlmds_patient_id\", \"ndl_wait_band\", \"ndl_age_band\", \"ndl_imd_quantile\", \"ndl_ethnicity\", \"ndl_ltc\", \"Sex\", \"Frailty_level\")\n",
    "\n",
    "# Count patients in each waiting time band\n",
    "overlapping_counts = overlapping_pathways.groupBy(\"ndl_wait_band\").count()\n",
    "non_overlapping_counts = non_overlapping_pathways.groupBy(\"ndl_wait_band\").count()\n",
    "\n",
    "# Get total counts for percentage calculation\n",
    "total_overlapping = overlapping_pathways.count()\n",
    "total_non_overlapping = non_overlapping_pathways.count()\n",
    "\n",
    "# Calculate percentage of patients in each wait band\n",
    "overlapping_percentages = overlapping_counts.withColumn(\"percentage\", (F.col(\"count\") / total_overlapping) * 100)\n",
    "non_overlapping_percentages = non_overlapping_counts.withColumn(\"percentage\", (F.col(\"count\") / total_non_overlapping) * 100)\n",
    "\n",
    "# Convert to Pandas for visualization\n",
    "overlapping_df = overlapping_percentages.toPandas()\n",
    "non_overlapping_df = non_overlapping_percentages.toPandas()\n",
    "\n",
    "# Merge both datasets\n",
    "merged_df = overlapping_df.merge(non_overlapping_df, on=\"ndl_wait_band\", suffixes=(\"_overlapping\", \"_non_overlapping\"))\n",
    "\n",
    "# Sorting wait bands\n",
    "wait_time_order = ['<= 18 weeks', '> 18 weeks', '> 36 weeks', '> 52 weeks']\n",
    "merged_df[\"ndl_wait_band\"] = pd.Categorical(merged_df[\"ndl_wait_band\"], categories=wait_time_order, ordered=True)\n",
    "merged_df = merged_df.sort_values(\"ndl_wait_band\")\n",
    "\n",
    "# Plot\n",
    "import matplotlib.pyplot as plt\n",
    "import numpy as np\n",
    "\n",
    "x = np.arange(len(merged_df[\"ndl_wait_band\"]))\n",
    "width = 0.4\n",
    "\n",
    "plt.figure(figsize=(10, 6))\n",
    "plt.bar(x - width/2, merged_df[\"percentage_overlapping\"], width, label='Overlapping Pathways', alpha=0.7)\n",
    "plt.bar(x + width/2, merged_df[\"percentage_non_overlapping\"], width, label='Non-Overlapping Pathways', alpha=0.7)\n",
    "\n",
    "plt.xlabel('Waiting Time Band')\n",
    "plt.ylabel('Percentage of Patients')\n",
    "plt.title('Percentage of Patients in Each Waiting Time Band')\n",
    "plt.xticks(ticks=x, labels=merged_df[\"ndl_wait_band\"])\n",
    "plt.legend()\n",
    "plt.show()"
   ]
  },
  {
   "cell_type": "code",
   "execution_count": 0,
   "metadata": {
    "application/vnd.databricks.v1+cell": {
     "cellMetadata": {
      "byteLimit": 2048000,
      "rowLimit": 10000
     },
     "inputWidgets": {},
     "nuid": "b38397b4-469e-4050-b276-71a8176146d6",
     "showTitle": false,
     "tableResultSettingsMap": {},
     "title": ""
    }
   },
   "outputs": [],
   "source": [
    "def calculate_wait_band_distribution_anna2(df, input_cols):\n",
    "    \"\"\"\n",
    "    Calculate the distribution of wait bands for the given input columns,\n",
    "    including counts and percentages for each wait band value, and total counts\n",
    "    for each input column value, renaming null values in the input columns to \"unknown\".\n",
    " \n",
    "    Args:\n",
    "        df (DataFrame): Input DataFrame.\n",
    "        input_cols (list): List of column names for the input grouping.\n",
    " \n",
    "    Returns:\n",
    "        DataFrame: A DataFrame containing input column values, total counts,\n",
    "                   and affixed columns with each wait band value: count and percentage.\n",
    "\n",
    "    \"\"\"\n",
    "\n",
    "    personal_ch = df.groupBy(input_cols + [\"wlmds_patient_id\", \"ndl_wait_band\"]).agg(count(\"*\").alias(\"count\"))\n",
    "\n",
    "    grouped_counts_list = []\n",
    "\n",
    "    for var in input_cols:\n",
    "        personal_ch = personal_ch.withColumn(var, when(col(var).isNull(), \"unknown\").otherwise(col(var)))\n",
    "        grouped_counts = personal_ch.groupBy(var).pivot(\"ndl_wait_band\").agg(count(\"*\").alias(\"count\")).withColumnRenamed(var, \"value\")\n",
    "        total_counts = personal_ch.groupBy(var).agg(count(\"*\").alias(\"total_count\")).withColumnRenamed(var, \"value\")\n",
    "        grouped_counts = grouped_counts.join(total_counts, on=\"value\", how=\"left\")\n",
    "        for c in grouped_counts.columns:\n",
    "            if c not in [\"value\", \"total_count\"]:\n",
    "                grouped_counts = grouped_counts.withColumn(f\"{c}_percentage\", (coalesce(col(c), lit(0)) / col(\"total_count\")) * 100)\n",
    "                grouped_counts = grouped_counts.withColumn(c, round(coalesce(col(c), lit(0)), 2))\n",
    "                grouped_counts = grouped_counts.withColumn(f\"{c}_percentage\", round(col(f\"{c}_percentage\"), 2))\n",
    "        grouped_counts = grouped_counts.withColumn(\"Variable\", lit(var))\n",
    "        grouped_counts_list.append(grouped_counts)\n",
    "\n",
    "    grouped_counts = reduce(lambda df1, df2: df1.unionByName(df2), grouped_counts_list)\n",
    "        \n",
    "    return grouped_counts\n",
    "\n",
    "columns = [\"ndl_age_band\", \"ndl_imd_quantile\", \"ndl_ethnicity\", \"ndl_ltc\", \"Sex\", \"Frailty_level\"]\n",
    "group_stats = calculate_wait_band_distribution_anna2(overlapping_pathways, columns)\n",
    "display(group_stats)"
   ]
  },
  {
   "cell_type": "code",
   "execution_count": 0,
   "metadata": {
    "application/vnd.databricks.v1+cell": {
     "cellMetadata": {
      "byteLimit": 2048000,
      "rowLimit": 10000
     },
     "inputWidgets": {},
     "nuid": "5d94473f-d753-4e77-8265-8ff26ec04d9b",
     "showTitle": false,
     "tableResultSettingsMap": {},
     "title": ""
    }
   },
   "outputs": [],
   "source": [
    "group_stats_str = group_stats.toPandas().to_csv(index=False, sep=',', lineterminator='')\n",
    "display(group_stats_str)"
   ]
  },
  {
   "cell_type": "code",
   "execution_count": 0,
   "metadata": {
    "application/vnd.databricks.v1+cell": {
     "cellMetadata": {
      "byteLimit": 2048000,
      "rowLimit": 10000
     },
     "inputWidgets": {},
     "nuid": "6f5e5077-fcb6-4853-be2b-08e5b07bf714",
     "showTitle": false,
     "tableResultSettingsMap": {},
     "title": ""
    }
   },
   "outputs": [],
   "source": [
    "#non overlapping \n",
    "group_stats2 = calculate_wait_band_distribution_anna2(non_overlapping_pathways, columns)\n",
    "display(group_stats2)"
   ]
  },
  {
   "cell_type": "code",
   "execution_count": 0,
   "metadata": {
    "application/vnd.databricks.v1+cell": {
     "cellMetadata": {
      "byteLimit": 2048000,
      "rowLimit": 10000
     },
     "inputWidgets": {},
     "nuid": "88fe1af5-32e3-4844-b7b1-c2af73f7bb5b",
     "showTitle": false,
     "tableResultSettingsMap": {},
     "title": ""
    }
   },
   "outputs": [],
   "source": [
    "group_stats_str = group_stats2.toPandas().to_csv(index=False, sep=',', lineterminator='')\n",
    "display(group_stats_str)"
   ]
  },
  {
   "cell_type": "code",
   "execution_count": 0,
   "metadata": {
    "application/vnd.databricks.v1+cell": {
     "cellMetadata": {
      "byteLimit": 2048000,
      "rowLimit": 10000
     },
     "inputWidgets": {},
     "nuid": "d4127224-2d5a-400b-83cc-f24abe65c108",
     "showTitle": false,
     "tableResultSettingsMap": {},
     "title": ""
    }
   },
   "outputs": [],
   "source": [
    "# Rename percentage columns for clarity before joining\n",
    "overlapping_df = group_stats.withColumnRenamed(\"<= 18 weeks_percentage\", \"Overlapping_≤18wks\")\n",
    "non_overlapping_df = group_stats2.withColumnRenamed(\"<= 18 weeks_percentage\", \"NonOverlapping_≤18wks\")\n",
    "\n",
    "# Join the two datasets on the relevant category column (e.g., \"ndl_ltc\", \"ndl_ethnicity\", etc.)\n",
    "comparison_df = overlapping_df.join(non_overlapping_df, on=[\"Variable\",\"value\"], how=\"inner\")\n",
    "\n",
    "# Calculate the percentage change\n",
    "comparison_df = comparison_df.withColumn(\n",
    "    \"Change\",\n",
    "    (F.col(\"NonOverlapping_≤18wks\") - F.col(\"Overlapping_≤18wks\")).alias(\"Change\")\n",
    ")\n",
    "\n",
    "# Format Change column to show percentage and label improvement\n",
    "comparison_df = comparison_df.withColumn(\n",
    "    \"Change\",\n",
    "    F.concat(\n",
    "        F.round(F.col(\"Change\"), 2), F.lit(\"% improvement\")\n",
    "    )\n",
    ")\n",
    "\n",
    "# Select and reorder relevant columns\n",
    "final_df_less_18weeks = comparison_df.select(\n",
    "    \"Variable\",\"value\", \"Overlapping_≤18wks\", \"NonOverlapping_≤18wks\", \"Change\"\n",
    ")\n",
    "\n",
    "\n",
    "\n",
    "# Show the result"
   ]
  },
  {
   "cell_type": "code",
   "execution_count": 0,
   "metadata": {
    "application/vnd.databricks.v1+cell": {
     "cellMetadata": {
      "byteLimit": 2048000,
      "rowLimit": 10000
     },
     "inputWidgets": {},
     "nuid": "31fbf36f-f5da-4e22-b21f-cbc0fee44df8",
     "showTitle": false,
     "tableResultSettingsMap": {},
     "title": ""
    }
   },
   "outputs": [],
   "source": [
    "# Rename percentage columns for clarity before joining\n",
    "overlapping_df = group_stats.withColumnRenamed(\"> 52 weeks_percentage\", \"Overlapping_>52wks\")\n",
    "non_overlapping_df = group_stats2.withColumnRenamed(\"> 52 weeks_percentage\", \"NonOverlapping_>52wks\")\n",
    "\n",
    "# Join the two datasets on the relevant category column (e.g., \"ndl_ltc\", \"ndl_ethnicity\", etc.)\n",
    "comparison_df = overlapping_df.join(non_overlapping_df, on=[\"Variable\",\"value\"], how=\"inner\")\n",
    "\n",
    "# Calculate the percentage change\n",
    "comparison_df = comparison_df.withColumn(\n",
    "    \"Change\",\n",
    "    (F.col(\"NonOverlapping_>52wks\") - F.col(\"Overlapping_>52wks\")).alias(\"Change\")\n",
    ")\n",
    "\n",
    "# Format Change column to show percentage and label improvement\n",
    "comparison_df = comparison_df.withColumn(\n",
    "    \"Change\",\n",
    "    F.concat(\n",
    "        F.round(F.col(\"Change\"), 2), F.lit(\"% improvement\")\n",
    "    )\n",
    ")\n",
    "\n",
    "# Select and reorder relevant columns\n",
    "final_df_more_52weeks = comparison_df.select(\n",
    "    \"Variable\",\"value\", \"Overlapping_>52wks\", \"NonOverlapping_>52wks\", \"Change\"\n",
    ")"
   ]
  },
  {
   "cell_type": "code",
   "execution_count": 0,
   "metadata": {
    "application/vnd.databricks.v1+cell": {
     "cellMetadata": {
      "byteLimit": 2048000,
      "rowLimit": 10000
     },
     "inputWidgets": {},
     "nuid": "4ca1ec77-318c-45c9-a88d-f147ff4396f1",
     "showTitle": false,
     "tableResultSettingsMap": {},
     "title": ""
    }
   },
   "outputs": [],
   "source": [
    "final_df_less_18weeks.show()\n"
   ]
  },
  {
   "cell_type": "code",
   "execution_count": 0,
   "metadata": {
    "application/vnd.databricks.v1+cell": {
     "cellMetadata": {
      "byteLimit": 2048000,
      "rowLimit": 10000
     },
     "inputWidgets": {},
     "nuid": "7d92a7c1-151b-486f-8122-1827f03c8090",
     "showTitle": false,
     "tableResultSettingsMap": {},
     "title": ""
    }
   },
   "outputs": [],
   "source": [
    "# Convert Spark DataFrames to Pandas DataFrames\n",
    "cols= [\"No LTCs\", \"Single LTC\", \"Multimorbidities\", \"black_background\", \"asian_background\", \"<= 10\"]\n",
    "filtered_df = final_df_less_18weeks.filter(\n",
    "    col(\"value\").isin(cols)\n",
    ")\n",
    "filtered_df=filtered_df.toPandas()\n",
    "\n",
    "filtered_df_2 = final_df_more_52weeks.filter(\n",
    "    col(\"value\").isin(cols)\n",
    ").toPandas()\n",
    "\n",
    "# Set width for bars\n",
    "bar_width = 0.4\n",
    "x = np.arange(len(filtered_df[\"value\"]))\n",
    "y = np.arange(len(filtered_df_2[\"value\"]))\n",
    "\n",
    "fig, axes = plt.subplots(1, 2, figsize=(12, 5))\n",
    "\n",
    "# First subplot: ≤18 Weeks Completion Rate\n",
    "axes[0].bar(x - bar_width/2, filtered_df[\"Overlapping_≤18wks\"], width=bar_width, label=\"Overlapping\", color=\"orange\")\n",
    "axes[0].bar(x + bar_width/2, filtered_df[\"NonOverlapping_≤18wks\"], width=bar_width, label=\"Non-Overlapping\", color=\"orangered\")\n",
    "\n",
    "axes[0].set_xticks(x)\n",
    "axes[0].set_xticklabels(filtered_df[\"value\"], rotation=20, ha=\"right\")\n",
    "axes[0].set_ylabel(\"≤18 Weeks Completion Rate (%)\")\n",
    "axes[0].set_title(\"Short-Wait Completion Rates Comparison\")\n",
    "axes[0].legend()\n",
    "axes[0].grid(axis=\"y\", linestyle=\"--\", alpha=0.6)\n",
    "\n",
    "# Second subplot: >18 Weeks Completion Rate\n",
    "axes[1].bar(y - bar_width/2, filtered_df_2[\"Overlapping_>52wks\"], width=bar_width, label=\"Overlapping\", color=\"orange\")\n",
    "axes[1].bar(y + bar_width/2, filtered_df_2[\"NonOverlapping_>52wks\"], width=bar_width, label=\"Non-Overlapping\", color=\"orangered\")\n",
    "\n",
    "axes[1].set_xticks(y)\n",
    "axes[1].set_xticklabels(filtered_df_2[\"value\"], rotation=20, ha=\"right\")\n",
    "axes[1].set_ylabel(\"Long-Wait Percentage (%)\")\n",
    "axes[1].set_title(\"Long-Wait Percentage Comparison\")\n",
    "axes[1].legend()\n",
    "axes[1].grid(axis=\"y\", linestyle=\"--\", alpha=0.6)\n",
    "\n",
    "plt.tight_layout()\n",
    "plt.show()"
   ]
  }
 ],
 "metadata": {
  "application/vnd.databricks.v1+notebook": {
   "computePreferences": null,
   "dashboards": [],
   "environmentMetadata": {
    "base_environment": "",
    "environment_version": "2"
   },
   "inputWidgetPreferences": null,
   "language": "python",
   "notebookMetadata": {
    "pythonIndentUnit": 4
   },
   "notebookName": "overlap_analysis_treatment_30",
   "widgets": {}
  },
  "language_info": {
   "name": "python"
  }
 },
 "nbformat": 4,
 "nbformat_minor": 0
}
